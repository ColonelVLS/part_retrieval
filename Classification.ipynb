{
 "cells": [
  {
   "cell_type": "code",
   "execution_count": 1,
   "id": "9e8a8317-4953-4782-8441-6cf24a91ab11",
   "metadata": {},
   "outputs": [
    {
     "name": "stdout",
     "output_type": "stream",
     "text": [
      "Jupyter environment detected. Enabling Open3D WebVisualizer.\n",
      "[Open3D INFO] WebRTC GUI backend enabled.\n",
      "[Open3D INFO] WebRTCWindowSystem: HTTP handshake server disabled.\n"
     ]
    }
   ],
   "source": [
    "import os\n",
    "os.environ['CUDA_LAUNCH_BLOCKING'] = \"1\"\n",
    "import sys\n",
    "sys.path.append(\"/home/beast/Desktop/vlassis/retrieval2/experiments\")\n",
    "\n",
    "import torch\n",
    "from torch.utils.data import DataLoader, random_split\n",
    "import numpy as np\n",
    "from tqdm import tqdm\n",
    "from diffusers.optimization import get_cosine_schedule_with_warmup\n",
    "\n",
    "from scripts.dataset import Items3Dataset, Warehouse4Dataset, warehouse4_collate_fn\n",
    "from scripts.visualization import quick_vis, quick_vis_with_parts, quick_vis_many\n",
    "from scripts.visualization import quick_vis_with_arrows, rotation_matrix_from_vectors_batch\n",
    "from scripts.visualization import create_arrow, create_arrows, coord_frame, quick_vis_pretty\n",
    "from scripts.model import *\n",
    "from scripts.logger import LivePlot\n",
    "from scripts.metrics import AccuracyMultiClass\n",
    "from scripts.utils import map_labels, generate_label_map, normalize_parts, normalize_parts_1, gen_one_hot\n",
    "from scripts.utils import split_vectors, split_into_parts, normalize_and_split"
   ]
  },
  {
   "cell_type": "code",
   "execution_count": 2,
   "id": "040ea047-935e-4408-ae5d-37e0db414f74",
   "metadata": {},
   "outputs": [],
   "source": [
    "def save_checkpoint(path, model, optimizer, scheduler, logger, criterion, seed,\n",
    "                   num_epochs, batch_size):\n",
    "    \n",
    "    state_dict = {\n",
    "        \"model\": model.state_dict(),\n",
    "        \"optimizer\": optimizer.state_dict(),\n",
    "        \"scheduler\": scheduler.state_dict(),\n",
    "        \"logger\": logger.state_dict(),\n",
    "        \"criterion\": criterion.state_dict(),\n",
    "        \"seed\": seed,\n",
    "        \"num_epochs\": num_epochs,\n",
    "        \"batch_size\": batch_size\n",
    "    }\n",
    "    \n",
    "    torch.save(state_dict, path)\n",
    "\n",
    "def load_checkpoint(path):\n",
    "    \n",
    "    sd = torch.load(path)\n",
    "    \n",
    "    return sd[\"model\"], sd[\"optimizer\"], sd[\"scheduler\"], sd[\"logger\"], sd[\"criterion\"], sd[\"seed\"], sd[\"num_epochs\"], sd[\"batch_size\"]"
   ]
  },
  {
   "cell_type": "code",
   "execution_count": 3,
   "id": "4620b540-576f-4312-9b5f-e5d97d4cf0e9",
   "metadata": {},
   "outputs": [
    {
     "name": "stdout",
     "output_type": "stream",
     "text": [
      "(12137, 1)\n",
      "Items2 dataset initialization complete (t = 0.3118863105773926)\n"
     ]
    }
   ],
   "source": [
    "torch.manual_seed(42)\n",
    "\n",
    "#data\n",
    "batch_size = 64\n",
    "categories = [0, 4, 15] #[0, 1, 3]\n",
    "# data_path = \"/home/beast/Desktop/vlassis/retrieval2/experiments/data/vectors2_items2_partnet.h5\"\n",
    "data_path = \"/home/beast/Desktop/vlassis/retrieval2/experiments/data/vectors_items_shapenet.h5\"\n",
    "dataset = Items3Dataset(cat=categories, path = data_path)\n",
    "train_size = int(0.8 *len(dataset))\n",
    "test_size = len(dataset) - train_size\n",
    "train_dataset, test_dataset = random_split(dataset, [train_size, test_size])\n",
    "train_dataloader = DataLoader(train_dataset, batch_size=batch_size, shuffle=True)\n",
    "test_dataloader = DataLoader(test_dataset, batch_size=batch_size, shuffle=False)\n",
    "\n",
    "#\n",
    "label_map = generate_label_map(torch.Tensor(categories).long())\n",
    "\n",
    "#model\n",
    "model = PartFinderPipeline2(in_channels = 3, out_channels = 384,\n",
    "                           num_classes = len(categories),\n",
    "                           num_attention_blocks = 3,\n",
    "                           pos_emb_dim = 3,\n",
    "                           pool_method = \"cls_token_pool\"\n",
    "                          ).cuda()\n",
    "\n",
    "#loading checkpoint for encoder\n",
    "msd = load_checkpoint(\"/home/beast/Desktop/vlassis/retrieval2/checkpoints/0415_T7_shapenet.pt\")[0]\n",
    "model.encoder.load_state_dict(msd)\n",
    "\n",
    "#training params\n",
    "num_epochs = 20\n",
    "lr, warmup_steps = 1e-5, 100\n",
    "current_epoch = 0\n",
    "\n",
    "#Exclude the encoder from the trainable parameters\n",
    "params = []\n",
    "for name, param in model.named_parameters():\n",
    "        if \"encoder\" not in name:\n",
    "            params.append(param)\n",
    "\n",
    "#initialize optimizer\n",
    "opt = torch.optim.Adam(params, lr=lr) #, weight_decay=1e-5\n",
    "lr_scheduler = get_cosine_schedule_with_warmup(\n",
    "    optimizer = opt,\n",
    "    num_warmup_steps = warmup_steps,\n",
    "    num_training_steps = len(train_dataloader) * num_epochs\n",
    ")\n",
    "\n",
    "#logger\n",
    "loggerconfig = {\n",
    "    \"on_step\": [{\"Loss per step\": \"Loss\"}],\n",
    "    \"on_epoch\":[{\"Loss per epoch\": \"Loss\"}, \n",
    "                {\"Evaluation accuracy\": \"Accuracy\"}],\n",
    "    \"on_update\": []            \n",
    "}\n",
    "logger = LivePlot(loggerconfig)\n",
    "\n",
    "#loss function\n",
    "criterion = torch.nn.CrossEntropyLoss()\n",
    "\n",
    "#metrics\n",
    "m1 = AccuracyMultiClass()"
   ]
  },
  {
   "cell_type": "code",
   "execution_count": 4,
   "id": "f69bb041-8231-4916-ad4d-1f18802b6030",
   "metadata": {},
   "outputs": [],
   "source": [
    "def train_epoch(model, dataloader, opt, lr_scheduler, criterion, logger):\n",
    "    \n",
    "    model.train()\n",
    "    \n",
    "    epoch_loss = 0.0\n",
    "    steps = 0\n",
    "    \n",
    "    for shape, label, part_label, pid, vectors in dataloader:\n",
    "        \n",
    "        #passing data to gpu\n",
    "        shape, label, part_label, pid, vectors = shape.cuda(), label.cuda(), part_label.cuda(), pid.cuda(), vectors.cuda()\n",
    "        \n",
    "        #flattening and normalizing the parts, generating a class map\n",
    "        parts, pid, part_label, centroids, class_map = normalize_and_split(shape, pid, part_label, vectors = vectors, \n",
    "                                                                           include_centroids = True, include_class_map = True)\n",
    "        \n",
    "        #running the model - B\n",
    "        score = model.forward_classification(parts, pid, class_map, centroids, normalize=True)\n",
    "        \n",
    "        #repeating the label as many times as the number of parts\n",
    "        label = map_labels(label.squeeze(), label_map)\n",
    "        \n",
    "        #crossentropy loss\n",
    "        loss = criterion(score, label.long())\n",
    "        \n",
    "        with open(\"/home/beast/Desktop/vlassis/retrieval2/loss.txt\", \"a\") as f:\n",
    "            f.write(f\"loss: {loss}\\n\")\n",
    "            \n",
    "        if loss.isnan().any():\n",
    "            with open(\"/home/beast/Desktop/vlassis/retrieval2/loss.txt\", \"a\") as f:\n",
    "                f.write(f\"scores: {score}\\n\")\n",
    "        \n",
    "        #back propagation\n",
    "        loss.backward()\n",
    "        \n",
    "        #gradient clipping\n",
    "        torch.nn.utils.clip_grad_norm_(model.parameters(), max_norm=1.0)\n",
    "                \n",
    "        #logger updates\n",
    "        logger.on_step([loss.item()])\n",
    "        epoch_loss += loss.item()\n",
    "        steps +=1\n",
    "        \n",
    "        #optimizer\n",
    "        opt.step()\n",
    "        lr_scheduler.step()\n",
    "        opt.zero_grad()\n",
    "    \n",
    "    return epoch_loss / steps"
   ]
  },
  {
   "cell_type": "code",
   "execution_count": 5,
   "id": "e825da84-c0d9-4be3-ac9c-307cabcf190a",
   "metadata": {},
   "outputs": [],
   "source": [
    "def eval_epoch(model, dataloader, metric):\n",
    "    \n",
    "    model.eval()\n",
    "    \n",
    "    epoch_loss = 0.0\n",
    "    steps = 0\n",
    "    \n",
    "    for shape, label, part_label, pid, vectors in dataloader:\n",
    "        \n",
    "        #passing data to gpu\n",
    "        shape, label, part_label, pid, vectors = shape.cuda(), label.cuda(), part_label.cuda(), pid.cuda(), vectors.cuda()\n",
    "        \n",
    "        #normalizing parts and computing centroids\n",
    "        parts, pid, part_label, centroids, class_map = normalize_and_split(shape, pid, part_label, vectors, \n",
    "                                                                           include_centroids = True, include_class_map = True)\n",
    "        \n",
    "        #running the model - B\n",
    "        score = model.forward_classification(parts, pid, class_map, centroids, normalize=True)\n",
    "        \n",
    "        #repeating the label as many times as the number of parts\n",
    "        label = map_labels(label.squeeze(), label_map)\n",
    "        \n",
    "        #calculating accuracy\n",
    "        metric(score, label.long())\n",
    "        \n",
    "    return metric.get()"
   ]
  },
  {
   "cell_type": "code",
   "execution_count": 6,
   "id": "7654ab36-0032-412a-8d9c-a1fe7f12a769",
   "metadata": {},
   "outputs": [
    {
     "data": {
      "image/png": "[encoded data removed]",
      "text/plain": [
       "<Figure size 864x288 with 3 Axes>"
      ]
     },
     "metadata": {
      "needs_background": "light"
     },
     "output_type": "display_data"
    }
   ],
   "source": [
    "for i in range(num_epochs):\n",
    "\n",
    "    epoch_loss = train_epoch(model, train_dataloader, opt, lr_scheduler, criterion, logger)\n",
    "    acc = eval_epoch(model, test_dataloader, m1)\n",
    "    with open(\"/home/beast/Desktop/vlassis/retrieval2/accuracy.txt\", \"a\") as f:\n",
    "        f.write(f\"epoch_loss: {epoch_loss}, acc: {acc}\\n\")\n",
    "    logger.on_epoch([epoch_loss, acc])"
   ]
  },
  {
   "cell_type": "code",
   "execution_count": 7,
   "id": "64df8137-b9be-4b60-80d2-db585cee84dd",
   "metadata": {},
   "outputs": [],
   "source": [
    "save_path = \"/home/beast/Desktop/vlassis/retrieval2/checkpoints/CLS_0415_T7_shapenet.pt\"\n",
    "torch.save(model.state_dict(), save_path)"
   ]
  },
  {
   "cell_type": "code",
   "execution_count": 8,
   "id": "7a8155ce-6025-46ca-9626-bdd1cd937cb2",
   "metadata": {},
   "outputs": [
    {
     "data": {
      "text/plain": [
       "106"
      ]
     },
     "execution_count": 8,
     "metadata": {},
     "output_type": "execute_result"
    }
   ],
   "source": [
    "len(train_dataloader)"
   ]
  }
 ],
 "metadata": {
  "kernelspec": {
   "display_name": "Python 3 (ipykernel)",
   "language": "python",
   "name": "python3"
  },
  "language_info": {
   "codemirror_mode": {
    "name": "ipython",
    "version": 3
   },
   "file_extension": ".py",
   "mimetype": "text/x-python",
   "name": "python",
   "nbconvert_exporter": "python",
   "pygments_lexer": "ipython3",
   "version": "3.9.13"
  }
 },
 "nbformat": 4,
 "nbformat_minor": 5
}
