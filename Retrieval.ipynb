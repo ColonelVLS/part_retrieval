{
 "cells": [
  {
   "cell_type": "markdown",
   "id": "7fb0c580-53da-4c3e-9ff2-372dc0291710",
   "metadata": {},
   "source": [
    "### Retrieval\n",
    "\n",
    "This notebook is dedicated to testing trained pipelines on part retrieval and evaluate their performance.\n",
    "The ultimate goal is to create a pipeline that finds similar parts, that fit the query object."
   ]
  },
  {
   "cell_type": "code",
   "execution_count": 1,
   "id": "5b66f456-e0d4-4c56-80fa-2fb1103c03e5",
   "metadata": {},
   "outputs": [
    {
     "name": "stdout",
     "output_type": "stream",
     "text": [
      "Jupyter environment detected. Enabling Open3D WebVisualizer.\n",
      "[Open3D INFO] WebRTC GUI backend enabled.\n",
      "[Open3D INFO] WebRTCWindowSystem: HTTP handshake server disabled.\n"
     ]
    }
   ],
   "source": [
    "import os\n",
    "os.environ['CUDA_LAUNCH_BLOCKING'] = \"1\"\n",
    "import sys\n",
    "sys.path.append(\"/home/beast/Desktop/vlassis/retrieval2/experiments\")\n",
    "\n",
    "import torch\n",
    "from torch.utils.data import DataLoader, random_split\n",
    "import numpy as np\n",
    "from tqdm import tqdm\n",
    "from diffusers.optimization import get_cosine_schedule_with_warmup\n",
    "\n",
    "from scripts.dataset import Items3Dataset, Warehouse4Dataset, warehouse4_collate_fn\n",
    "from scripts.visualization import quick_vis, quick_vis_with_parts, quick_vis_many\n",
    "from scripts.visualization import quick_vis_pretty, quick_vis_with_parts_pretty\n",
    "from scripts.visualization import plot_histogram, visualize_distribution_over_time\n",
    "from scripts.visualization import coord_frame\n",
    "from scripts.model import *\n",
    "from scripts.logger import LivePlot\n",
    "from scripts.metrics import AccuracyMultiClass\n",
    "from scripts.utils import map_labels, generate_label_map, normalize_parts, normalize_parts_1, get_truly_random_seed_through_os\n",
    "from scripts.utils import normalize_and_split, pc_to_bounding_box\n",
    "\n",
    "TEST = False\n"
   ]
  },
  {
   "cell_type": "code",
   "execution_count": 2,
   "id": "0eff832e-c623-4b35-a70d-2a0fc36f555d",
   "metadata": {},
   "outputs": [
    {
     "name": "stdout",
     "output_type": "stream",
     "text": [
      "663100628\n"
     ]
    }
   ],
   "source": [
    "seed = get_truly_random_seed_through_os()\n",
    "print(seed)\n",
    "np.random.seed(seed)\n",
    "torch.manual_seed(seed)\n",
    "TEST = True"
   ]
  },
  {
   "cell_type": "markdown",
   "id": "698feafe-8c01-40a6-81e6-4e1dfaf9793e",
   "metadata": {},
   "source": [
    "##### Create data loaders and data related parameters"
   ]
  },
  {
   "cell_type": "code",
   "execution_count": 3,
   "id": "ca5b81fd-3ab8-40b1-a9ad-65779a13e21d",
   "metadata": {},
   "outputs": [
    {
     "name": "stdout",
     "output_type": "stream",
     "text": [
      "Initializing warehouse dataset\n"
     ]
    },
    {
     "name": "stderr",
     "output_type": "stream",
     "text": [
      "100%|███████████████████████████████████| 62120/62120 [00:18<00:00, 3307.93it/s]\n"
     ]
    },
    {
     "name": "stdout",
     "output_type": "stream",
     "text": [
      "Warehouse dataset initialization complete (t = 18.92544960975647)\n",
      "(12137, 1)\n",
      "Items2 dataset initialization complete (t = 1.0237460136413574)\n",
      "{'0': 0, '4': 1, '15': 2}\n"
     ]
    }
   ],
   "source": [
    "batch_size = 128\n",
    "categories = [0, 4, 15] # [0, 1, 3] #\n",
    "\n",
    "# warehouse_path = \"/home/beast/Desktop/vlassis/retrieval2/experiments/data/vectors_warehouse_partnet2\"\n",
    "warehouse_path = \"/home/beast/Desktop/vlassis/retrieval2/experiments/data/vectors_warehouse_shapenet\"\n",
    "warehouse = Warehouse4Dataset(cat = None, path = warehouse_path, encodings=True)\n",
    "dataloader = DataLoader(warehouse, batch_size = batch_size, shuffle = False, collate_fn = warehouse4_collate_fn)\n",
    "\n",
    "# items_path = \"/home/beast/Desktop/vlassis/retrieval2/experiments/data/vectors2_items2_partnet.h5\"\n",
    "items_path = \"/home/beast/Desktop/vlassis/retrieval2/experiments/data/vectors_items_shapenet.h5\"\n",
    "itemsdataset = Items3Dataset(cat=categories, path = items_path)\n",
    "\n",
    "#Retaining a label map to use throughout the retrieval process. Each label is mapped to a specific model output neuron\n",
    "label_map = generate_label_map(torch.Tensor(categories).to(torch.int32))\n",
    "print(label_map)"
   ]
  },
  {
   "cell_type": "markdown",
   "id": "685ccaee-f423-4100-b628-b130bfb4b754",
   "metadata": {},
   "source": [
    "##### Load the model we want to test each time"
   ]
  },
  {
   "cell_type": "code",
   "execution_count": 4,
   "id": "437ebc58-53ad-4315-a1b6-b2188a8ef6ab",
   "metadata": {},
   "outputs": [],
   "source": [
    "#choose the model we want and load the appropriate checkpoint\n",
    "model = PartFinderPipeline2(in_channels = 3, out_channels = 384,\n",
    "                           num_classes = len(categories),\n",
    "                           num_attention_blocks = 3,\n",
    "                           pos_emb_dim = 3,\n",
    "                           pool_method = \"cls_token_pool\"\n",
    "                          ).cuda()\n",
    "\n",
    "# model.load_state_dict(torch.load(\"/home/beast/Desktop/vlassis/retrieval2/checkpoints/CLS_allcats_T7_partnet_pointnetnew_batchless.pt\"))\n",
    "model.load_state_dict(torch.load(\"/home/beast/Desktop/vlassis/retrieval2/checkpoints/CLS_allcats_T7_shapenet.pt\"))\n",
    "model = model.eval()"
   ]
  },
  {
   "cell_type": "markdown",
   "id": "093233f7-e96e-4c1a-b820-7aef223c089b",
   "metadata": {},
   "source": [
    "##### Grab an item from the dataset, choose a random part and discard it."
   ]
  },
  {
   "cell_type": "code",
   "execution_count": 17,
   "id": "dc575eeb-d4a3-4923-87aa-f0d11f8740b7",
   "metadata": {},
   "outputs": [
    {
     "name": "stdout",
     "output_type": "stream",
     "text": [
      "LABEL:  tensor([0])\n",
      "sample: torch.Size([2048, 3]), label: torch.Size([1]), part_label: torch.Size([2048])\n",
      "pid: torch.Size([2048]), vectors: torch.Size([70, 3])\n",
      "discarded part:  0\n",
      "torch.Size([1141, 3]) torch.Size([1141]) torch.Size([1141]) torch.Size([69, 3])\n"
     ]
    }
   ],
   "source": [
    "#acquiring a sample for testing\n",
    "sample, label, part_labels, pid, vectors = itemsdataset[5000]\n",
    "label = label.long()\n",
    "print(\"LABEL: \", label)\n",
    "quick_vis_with_parts_pretty(sample, pid, title=f\"Query_sample, label: {label.item()}\")\n",
    "quick_vis_pretty(sample)\n",
    "print(f\"sample: {sample.shape}, label: {label.shape}, part_label: {part_labels.shape}\\npid: {pid.shape}, vectors: {vectors.shape}\")\n",
    "\n",
    "#discarding a random part from the query sample\n",
    "discard_part_id = 0#np.random.choice(np.unique(pid))\n",
    "keep_indices = np.where(pid != discard_part_id)[0]\n",
    "discard_indices = np.where(pid == discard_part_id)[0]\n",
    "\n",
    "#finding the class of the discarded part\n",
    "idx = np.where(pid == discard_part_id)[0][0]\n",
    "discarded_part_class = part_labels[idx].item()\n",
    "print(\"discarded part: \", discarded_part_class)\n",
    "\n",
    "#keeping both the discarded and the kept shape\n",
    "discarded_part = sample[discard_indices]\n",
    "query_sample, query_pid, query_part_label = sample[keep_indices], pid[keep_indices], part_labels[keep_indices]\n",
    "query_sample_copy = query_sample.clone()\n",
    "query_vectors = torch.cat((vectors[:discard_part_id], vectors[discard_part_id + 1:]), dim=0)\n",
    "                                                                                                                                                                                                                                                                                                                                                    \n",
    "#rearranging pids\n",
    "query_pid[query_pid > discard_part_id] = query_pid[query_pid > discard_part_id] -1\n",
    "discarded_bb = pc_to_bounding_box(discarded_part)\n",
    "# quick_vis_with_parts_pretty(query_sample, query_pid, extra_geometries = [discarded_bb._o3d],\n",
    "#                      title=\"Query sample, after discarding a part\")\n",
    "quick_vis_pretty(query_sample, extra_geometries = [discarded_bb._o3d],\n",
    "                     title=f\"Query sample, after discarding part {discard_part_id}\")\n",
    "\n",
    "#sanity check - these are the variables that will be used through the rest of the notebook\n",
    "print(query_sample.shape, query_pid.shape, query_part_label.shape, query_vectors.shape)"
   ]
  },
  {
   "cell_type": "code",
   "execution_count": null,
   "id": "e23d56b2-33c5-4513-9096-dec824ffa36b",
   "metadata": {},
   "outputs": [],
   "source": [
    "# {\n",
    "# \t\"class_name\" : \"ViewTrajectory\",\n",
    "# \t\"interval\" : 29,\n",
    "# \t\"is_loop\" : false,\n",
    "# \t\"trajectory\" : \n",
    "# \t[\n",
    "# \t\t{\n",
    "# \t\t\t\"boundingbox_max\" : [ 0.86086872887860688, 0.32886562875646308, 0.46846096634864809 ],\n",
    "# \t\t\t\"boundingbox_min\" : [ -0.86086872887860688, -0.32886562875646308, -0.46846096634864809 ],\n",
    "# \t\t\t\"field_of_view\" : 60.0,\n",
    "# \t\t\t\"front\" : [ -0.62950627893910571, 0.32522670284422861, 0.70565532417272447 ],\n",
    "# \t\t\t\"lookat\" : [ 0.0, 0.0, 0.0 ],\n",
    "# \t\t\t\"up\" : [ 0.18282276118249258, 0.94468488339549284, -0.27229819881455958 ],\n",
    "# \t\t\t\"zoom\" : 0.96000000000000019\n",
    "# \t\t}\n",
    "# \t],\n",
    "# \t\"version_major\" : 1,\n",
    "# \t\"version_minor\" : 0\n",
    "# }"
   ]
  },
  {
   "cell_type": "markdown",
   "id": "6f2c2654-7e46-40bd-8c15-b5ce92e75db2",
   "metadata": {},
   "source": [
    "Encoding the query shape"
   ]
  },
  {
   "cell_type": "code",
   "execution_count": 8,
   "id": "2cdecece-2828-4af0-808e-a40a0f25f6af",
   "metadata": {},
   "outputs": [
    {
     "name": "stdout",
     "output_type": "stream",
     "text": [
      "torch.Size([1, 1320, 3])\n",
      "part feats:  torch.Size([4, 384])\n",
      "pid:  torch.Size([1320])\n",
      "part lb:  torch.Size([4])\n",
      "centroids:  torch.Size([4, 3])\n"
     ]
    }
   ],
   "source": [
    "#creating a batch dim and transferring to gpu\n",
    "query_sample, query_pid, query_part_label, query_vectors = query_sample.unsqueeze(0).cuda(), query_pid.unsqueeze(0).cuda(), query_part_label.unsqueeze(0).cuda(), query_vectors.unsqueeze(0).cuda()\n",
    "print(query_sample.shape)\n",
    "#normalizing the parts -> parts: N x 3, pid: N, part_label: M, centroids: M x 3\n",
    "parts, query_pid, part_label, query_centroids = normalize_and_split(query_sample, query_pid, query_part_label, query_vectors, include_centroids = True)\n",
    "\n",
    "#encoding the shape -> M x F\n",
    "query_shape_feats = model.forward_encoder(parts, query_pid)\n",
    "\n",
    "print(\"part feats: \", query_shape_feats.shape)\n",
    "print(\"pid: \", query_pid.shape)\n",
    "print(\"part lb: \", part_label.shape)\n",
    "print(\"centroids: \", query_centroids.shape)"
   ]
  },
  {
   "cell_type": "markdown",
   "id": "d4a1a1f2-dcd6-44a5-9054-b566bec874cb",
   "metadata": {},
   "source": [
    "##### Evaluating the entire warehouse against the query sample. The higher the score, the better the similarity"
   ]
  },
  {
   "cell_type": "code",
   "execution_count": 9,
   "id": "78e313c4-e7ae-4ecd-968c-6249cf814b6d",
   "metadata": {},
   "outputs": [
    {
     "name": "stdout",
     "output_type": "stream",
     "text": [
      "torch.Size([1]) {'0': 0, '4': 1, '15': 2}\n"
     ]
    },
    {
     "name": "stderr",
     "output_type": "stream",
     "text": [
      "100%|█████████████████████████████████████████| 486/486 [00:13<00:00, 35.49it/s]\n"
     ]
    }
   ],
   "source": [
    "#EVALUATING THE SCORE OF EACH WAREHOUSE SPARE PART\n",
    "print(label.shape, label_map)\n",
    "label = map_labels(label, label_map)\n",
    "warehouse_scores = []\n",
    "\n",
    "with torch.no_grad():\n",
    "    #iterating through every single part in the warehouse\n",
    "    for samples, labels, part_labels, vectors, warehouse_features in tqdm(dataloader):\n",
    "        \n",
    "        #computing the centroids of each part - M x 3\n",
    "        warehouse_centroids = torch.stack([s.mean(dim=0) for s in samples])\n",
    "        \n",
    "        #encoded samples have been normalized beforehand. Transferring to gpu\n",
    "        warehouse_features, warehouse_centroids = warehouse_features.cuda(), warehouse_centroids.cuda()\n",
    "\n",
    "        #M x K class scores\n",
    "        scores = model.forward_retrieval(query_shape_feats, query_centroids, warehouse_features, warehouse_centroids, normalize=True)\n",
    "        \n",
    "        #selecting the output of only the relevant neuron, the one corresponding to the query shape\n",
    "        scores = scores[:, label]\n",
    "        \n",
    "        #keeping track of all scores\n",
    "        warehouse_scores.append(scores.cpu().squeeze())"
   ]
  },
  {
   "cell_type": "markdown",
   "id": "5230682a-5fd8-4606-b29c-6e8df8724663",
   "metadata": {},
   "source": [
    "##### Evaluating the score of the actual discarded part, see how it compares to the rest"
   ]
  },
  {
   "cell_type": "markdown",
   "id": "9703e0b4-d410-4644-a38b-f4ee5e7ba7c8",
   "metadata": {},
   "source": [
    "##### Display the top K matches and worst K matches"
   ]
  },
  {
   "cell_type": "code",
   "execution_count": 10,
   "id": "9cd23498-89e0-4d70-a84b-611a1e36ad3c",
   "metadata": {},
   "outputs": [],
   "source": [
    "#Concatenating warehouse scores (batches of size B) into a single tensor\n",
    "warehouse_scores = torch.cat(warehouse_scores, dim=0)"
   ]
  },
  {
   "cell_type": "code",
   "execution_count": 11,
   "id": "84dc116d-46a2-4893-91a0-4d128eb069f1",
   "metadata": {},
   "outputs": [
    {
     "name": "stdout",
     "output_type": "stream",
     "text": [
      "torch.Size([62120])\n",
      "[4.475837230682373, 4.475737571716309, 4.475613594055176, 4.475452423095703, 4.4753899574279785, 4.475274085998535, 4.4750566482543945, 4.474409580230713, 4.473893165588379, 4.4736433029174805, 4.473320007324219, 4.473201274871826, 4.473171710968018, 4.473169803619385, 4.473116397857666, 4.47283935546875, 4.472552299499512, 4.472504615783691, 4.47241735458374, 4.4722089767456055]\n",
      "[-2.827885627746582, -2.7242982387542725, -2.684530735015869, -2.555819511413574, -2.553339958190918, -2.5467076301574707, -2.5046098232269287, -2.4568099975585938, -2.4381332397460938, -2.420393943786621, -2.4175522327423096, -2.416565418243408, -2.3816745281219482, -2.3607778549194336, -2.3547019958496094, -2.352668285369873, -2.321974992752075, -2.3195242881774902, -2.3076348304748535, -2.301144599914551]\n"
     ]
    }
   ],
   "source": [
    "print(warehouse_scores.shape)\n",
    "best_indices = torch.argsort(warehouse_scores, descending = True)\n",
    "worst_indices = torch.argsort(warehouse_scores, descending = False)\n",
    "\n",
    "k = 20\n",
    "\n",
    "top_k_scores = [warehouse_scores[i].item() for i in best_indices[:k]]\n",
    "bot_k_scores = [warehouse_scores[i].item() for i in worst_indices[:k]]\n",
    "\n",
    "print(top_k_scores)\n",
    "print(bot_k_scores)\n",
    "\n",
    "top_k_parts = [warehouse[i.item()][0] for i in best_indices[:k]]\n",
    "bot_k_parts = [warehouse[i.item()][0] for i in worst_indices[:k]]"
   ]
  },
  {
   "cell_type": "markdown",
   "id": "e9275570-7ea2-4cc7-a7cd-b4b07d3ecf76",
   "metadata": {},
   "source": [
    "Visualizing the samples corresponding to the highest and lowest scores"
   ]
  },
  {
   "cell_type": "code",
   "execution_count": 12,
   "id": "086446c2-f69f-4920-bd85-dd773648c617",
   "metadata": {},
   "outputs": [],
   "source": [
    "top_k_parts = [warehouse[i.item()][0] for i in best_indices[:k]]\n",
    "bot_k_parts = [warehouse[i.item()][0] for i in worst_indices[:k]]\n",
    "\n",
    "top_k_labels = [warehouse[i.item()][2] for i in best_indices[:k]]\n",
    "bot_k_labels = [warehouse[i.item()][2] for i in worst_indices[:k]]"
   ]
  },
  {
   "cell_type": "code",
   "execution_count": 13,
   "id": "107c78ac-79a6-49cf-a555-5813c4a28bcb",
   "metadata": {},
   "outputs": [],
   "source": [
    "quick_vis_pretty(query_sample_copy.squeeze().cpu(), extra_geometries = [discarded_bb._o3d])\n",
    "quick_vis_pretty(discarded_part.squeeze().cpu())"
   ]
  },
  {
   "cell_type": "code",
   "execution_count": 14,
   "id": "7a05957a-660e-4f84-8ce9-0e18e6838442",
   "metadata": {},
   "outputs": [
    {
     "ename": "KeyboardInterrupt",
     "evalue": "",
     "output_type": "error",
     "traceback": [
      "\u001b[0;31m---------------------------------------------------------------------------\u001b[0m",
      "\u001b[0;31mKeyboardInterrupt\u001b[0m                         Traceback (most recent call last)",
      "Input \u001b[0;32mIn [14]\u001b[0m, in \u001b[0;36m<cell line: 1>\u001b[0;34m()\u001b[0m\n\u001b[1;32m      1\u001b[0m \u001b[38;5;28;01mfor\u001b[39;00m part, lb \u001b[38;5;129;01min\u001b[39;00m \u001b[38;5;28mzip\u001b[39m(top_k_parts, top_k_labels):\n\u001b[1;32m      2\u001b[0m     lb \u001b[38;5;241m=\u001b[39m lb\u001b[38;5;241m.\u001b[39msqueeze()\u001b[38;5;241m.\u001b[39mitem()\n\u001b[0;32m----> 3\u001b[0m     \u001b[43mquick_vis_pretty\u001b[49m\u001b[43m(\u001b[49m\u001b[43mpart\u001b[49m\u001b[43m,\u001b[49m\u001b[43m \u001b[49m\u001b[43mtitle\u001b[49m\u001b[43m \u001b[49m\u001b[38;5;241;43m=\u001b[39;49m\u001b[43m \u001b[49m\u001b[38;5;124;43mf\u001b[39;49m\u001b[38;5;124;43m\"\u001b[39;49m\u001b[38;5;124;43mBEST - discarded id: \u001b[39;49m\u001b[38;5;132;43;01m{\u001b[39;49;00m\u001b[43mdiscarded_part_class\u001b[49m\u001b[38;5;132;43;01m}\u001b[39;49;00m\u001b[38;5;124;43m, current id: \u001b[39;49m\u001b[38;5;132;43;01m{\u001b[39;49;00m\u001b[43mlb\u001b[49m\u001b[38;5;132;43;01m}\u001b[39;49;00m\u001b[38;5;124;43m\"\u001b[39;49m\u001b[43m)\u001b[49m\n",
      "File \u001b[0;32m~/Desktop/vlassis/retrieval2/experiments/scripts/visualization.py:75\u001b[0m, in \u001b[0;36mquick_vis_pretty\u001b[0;34m(x, colormap, extra_geometries, title)\u001b[0m\n\u001b[1;32m     72\u001b[0m     spheres \u001b[38;5;241m+\u001b[39m\u001b[38;5;241m=\u001b[39m o3d\u001b[38;5;241m.\u001b[39mgeometry\u001b[38;5;241m.\u001b[39mTriangleMesh\u001b[38;5;241m.\u001b[39mcreate_sphere(radius\u001b[38;5;241m=\u001b[39m\u001b[38;5;241m0.02\u001b[39m, resolution\u001b[38;5;241m=\u001b[39m\u001b[38;5;241m5\u001b[39m)\u001b[38;5;241m.\u001b[39mtranslate(p)\u001b[38;5;241m.\u001b[39mpaint_uniform_color(colors[i])\n\u001b[1;32m     74\u001b[0m \u001b[38;5;66;03m#visualizing    \u001b[39;00m\n\u001b[0;32m---> 75\u001b[0m \u001b[43mo3d\u001b[49m\u001b[38;5;241;43m.\u001b[39;49m\u001b[43mvisualization\u001b[49m\u001b[38;5;241;43m.\u001b[39;49m\u001b[43mdraw_geometries\u001b[49m\u001b[43m(\u001b[49m\u001b[43m[\u001b[49m\u001b[43mspheres\u001b[49m\u001b[43m]\u001b[49m\u001b[43m \u001b[49m\u001b[38;5;241;43m+\u001b[39;49m\u001b[43m \u001b[49m\u001b[43mextra_geometries\u001b[49m\u001b[43m,\u001b[49m\u001b[43m \u001b[49m\u001b[43mwindow_name\u001b[49m\u001b[38;5;241;43m=\u001b[39;49m\u001b[43mtitle\u001b[49m\u001b[43m \u001b[49m\u001b[38;5;28;43;01mif\u001b[39;49;00m\u001b[43m \u001b[49m\u001b[43mtitle\u001b[49m\u001b[43m \u001b[49m\u001b[38;5;129;43;01mis\u001b[39;49;00m\u001b[43m \u001b[49m\u001b[38;5;129;43;01mnot\u001b[39;49;00m\u001b[43m \u001b[49m\u001b[38;5;28;43;01mNone\u001b[39;49;00m\u001b[43m \u001b[49m\u001b[38;5;28;43;01melse\u001b[39;49;00m\u001b[43m \u001b[49m\u001b[38;5;124;43m\"\u001b[39;49m\u001b[38;5;124;43mOpen3D\u001b[39;49m\u001b[38;5;124;43m\"\u001b[39;49m\u001b[43m)\u001b[49m\n",
      "\u001b[0;31mKeyboardInterrupt\u001b[0m: "
     ]
    }
   ],
   "source": [
    "for part, lb in zip(top_k_parts, top_k_labels):\n",
    "    lb = lb.squeeze().item()\n",
    "    quick_vis_pretty(part, title = f\"BEST - discarded id: {discarded_part_class}, current id: {lb}\")"
   ]
  },
  {
   "cell_type": "code",
   "execution_count": 15,
   "id": "c6e856ad-8a6c-42ae-887a-61f670611ed3",
   "metadata": {},
   "outputs": [
    {
     "ename": "KeyboardInterrupt",
     "evalue": "",
     "output_type": "error",
     "traceback": [
      "\u001b[0;31m---------------------------------------------------------------------------\u001b[0m",
      "\u001b[0;31mKeyboardInterrupt\u001b[0m                         Traceback (most recent call last)",
      "Input \u001b[0;32mIn [15]\u001b[0m, in \u001b[0;36m<cell line: 1>\u001b[0;34m()\u001b[0m\n\u001b[1;32m      1\u001b[0m \u001b[38;5;28;01mfor\u001b[39;00m part, lb \u001b[38;5;129;01min\u001b[39;00m \u001b[38;5;28mzip\u001b[39m(bot_k_parts, bot_k_labels):\n\u001b[0;32m----> 2\u001b[0m     \u001b[43mquick_vis_pretty\u001b[49m\u001b[43m(\u001b[49m\u001b[43mpart\u001b[49m\u001b[43m,\u001b[49m\u001b[43m \u001b[49m\u001b[43mtitle\u001b[49m\u001b[43m \u001b[49m\u001b[38;5;241;43m=\u001b[39;49m\u001b[43m \u001b[49m\u001b[38;5;124;43mf\u001b[39;49m\u001b[38;5;124;43m\"\u001b[39;49m\u001b[38;5;124;43mWORST - discarded id: \u001b[39;49m\u001b[38;5;132;43;01m{\u001b[39;49;00m\u001b[43mdiscarded_part_class\u001b[49m\u001b[38;5;132;43;01m}\u001b[39;49;00m\u001b[38;5;124;43m, current id: \u001b[39;49m\u001b[38;5;132;43;01m{\u001b[39;49;00m\u001b[43mlb\u001b[49m\u001b[38;5;132;43;01m}\u001b[39;49;00m\u001b[38;5;124;43m\"\u001b[39;49m\u001b[43m)\u001b[49m\n",
      "File \u001b[0;32m~/Desktop/vlassis/retrieval2/experiments/scripts/visualization.py:75\u001b[0m, in \u001b[0;36mquick_vis_pretty\u001b[0;34m(x, colormap, extra_geometries, title)\u001b[0m\n\u001b[1;32m     72\u001b[0m     spheres \u001b[38;5;241m+\u001b[39m\u001b[38;5;241m=\u001b[39m o3d\u001b[38;5;241m.\u001b[39mgeometry\u001b[38;5;241m.\u001b[39mTriangleMesh\u001b[38;5;241m.\u001b[39mcreate_sphere(radius\u001b[38;5;241m=\u001b[39m\u001b[38;5;241m0.02\u001b[39m, resolution\u001b[38;5;241m=\u001b[39m\u001b[38;5;241m5\u001b[39m)\u001b[38;5;241m.\u001b[39mtranslate(p)\u001b[38;5;241m.\u001b[39mpaint_uniform_color(colors[i])\n\u001b[1;32m     74\u001b[0m \u001b[38;5;66;03m#visualizing    \u001b[39;00m\n\u001b[0;32m---> 75\u001b[0m \u001b[43mo3d\u001b[49m\u001b[38;5;241;43m.\u001b[39;49m\u001b[43mvisualization\u001b[49m\u001b[38;5;241;43m.\u001b[39;49m\u001b[43mdraw_geometries\u001b[49m\u001b[43m(\u001b[49m\u001b[43m[\u001b[49m\u001b[43mspheres\u001b[49m\u001b[43m]\u001b[49m\u001b[43m \u001b[49m\u001b[38;5;241;43m+\u001b[39;49m\u001b[43m \u001b[49m\u001b[43mextra_geometries\u001b[49m\u001b[43m,\u001b[49m\u001b[43m \u001b[49m\u001b[43mwindow_name\u001b[49m\u001b[38;5;241;43m=\u001b[39;49m\u001b[43mtitle\u001b[49m\u001b[43m \u001b[49m\u001b[38;5;28;43;01mif\u001b[39;49;00m\u001b[43m \u001b[49m\u001b[43mtitle\u001b[49m\u001b[43m \u001b[49m\u001b[38;5;129;43;01mis\u001b[39;49;00m\u001b[43m \u001b[49m\u001b[38;5;129;43;01mnot\u001b[39;49;00m\u001b[43m \u001b[49m\u001b[38;5;28;43;01mNone\u001b[39;49;00m\u001b[43m \u001b[49m\u001b[38;5;28;43;01melse\u001b[39;49;00m\u001b[43m \u001b[49m\u001b[38;5;124;43m\"\u001b[39;49m\u001b[38;5;124;43mOpen3D\u001b[39;49m\u001b[38;5;124;43m\"\u001b[39;49m\u001b[43m)\u001b[49m\n",
      "\u001b[0;31mKeyboardInterrupt\u001b[0m: "
     ]
    }
   ],
   "source": [
    "for part, lb in zip(bot_k_parts, bot_k_labels):\n",
    "    quick_vis_pretty(part, title = f\"WORST - discarded id: {discarded_part_class}, current id: {lb}\")"
   ]
  },
  {
   "cell_type": "code",
   "execution_count": null,
   "id": "b5035900-8f02-4335-933f-942723fb536a",
   "metadata": {},
   "outputs": [],
   "source": []
  }
 ],
 "metadata": {
  "kernelspec": {
   "display_name": "Python 3 (ipykernel)",
   "language": "python",
   "name": "python3"
  },
  "language_info": {
   "codemirror_mode": {
    "name": "ipython",
    "version": 3
   },
   "file_extension": ".py",
   "mimetype": "text/x-python",
   "name": "python",
   "nbconvert_exporter": "python",
   "pygments_lexer": "ipython3",
   "version": "3.9.13"
  }
 },
 "nbformat": 4,
 "nbformat_minor": 5
}
